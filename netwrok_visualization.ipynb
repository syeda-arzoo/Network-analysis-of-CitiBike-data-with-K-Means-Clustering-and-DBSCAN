{
  "nbformat": 4,
  "nbformat_minor": 0,
  "metadata": {
    "colab": {
      "name": "UC_HW3_que1",
      "provenance": [],
      "collapsed_sections": []
    },
    "kernelspec": {
      "name": "python3",
      "display_name": "Python 3"
    },
    "accelerator": "GPU"
  },
  "cells": [
    {
      "cell_type": "code",
      "metadata": {
        "id": "fO1rteSDWHpv",
        "colab_type": "code",
        "colab": {}
      },
      "source": [
        "import networkx as nx\n",
        "import pandas as pd\n",
        "import matplotlib.pyplot as plt"
      ],
      "execution_count": 0,
      "outputs": []
    },
    {
      "cell_type": "code",
      "metadata": {
        "id": "hcyNdzGhWNQw",
        "colab_type": "code",
        "outputId": "d8375724-03e1-4ad1-e80c-820e2fd32b36",
        "colab": {
          "resources": {
            "http://localhost:8080/nbextensions/google.colab/files.js": {
              "data": "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",
              "ok": true,
              "headers": [
                [
                  "content-type",
                  "application/javascript"
                ]
              ],
              "status": 200,
              "status_text": ""
            }
          },
          "base_uri": "https://localhost:8080/",
          "height": 71
        }
      },
      "source": [
        "from google.colab import files\n",
        "uploaded = files.upload()"
      ],
      "execution_count": 115,
      "outputs": [
        {
          "output_type": "display_data",
          "data": {
            "text/html": [
              "\n",
              "     <input type=\"file\" id=\"files-8a5bab29-254e-46ed-887d-ddf389d0bd51\" name=\"files[]\" multiple disabled />\n",
              "     <output id=\"result-8a5bab29-254e-46ed-887d-ddf389d0bd51\">\n",
              "      Upload widget is only available when the cell has been executed in the\n",
              "      current browser session. Please rerun this cell to enable.\n",
              "      </output>\n",
              "      <script src=\"/nbextensions/google.colab/files.js\"></script> "
            ],
            "text/plain": [
              "<IPython.core.display.HTML object>"
            ]
          },
          "metadata": {
            "tags": []
          }
        },
        {
          "output_type": "stream",
          "text": [
            "Saving citibike-tripdata.csv to citibike-tripdata (2).csv\n"
          ],
          "name": "stdout"
        }
      ]
    },
    {
      "cell_type": "code",
      "metadata": {
        "id": "WSz6sTPgaqUR",
        "colab_type": "code",
        "outputId": "8047546d-6677-44a3-d289-9255e3767cf4",
        "colab": {
          "base_uri": "https://localhost:8080/",
          "height": 34
        }
      },
      "source": [
        "for fn in uploaded.keys():\n",
        "  print('User uploaded file \"{name}\" with length {length} bytes'.format(\n",
        "      name=fn, length=len(uploaded[fn])))"
      ],
      "execution_count": 116,
      "outputs": [
        {
          "output_type": "stream",
          "text": [
            "User uploaded file \"citibike-tripdata.csv\" with length 7879505 bytes\n"
          ],
          "name": "stdout"
        }
      ]
    },
    {
      "cell_type": "code",
      "metadata": {
        "id": "8FWc9eEgaq5z",
        "colab_type": "code",
        "colab": {}
      },
      "source": [
        "import io\n",
        "df = pd.read_csv(io.StringIO(uploaded['citibike-tripdata.csv'].decode('utf-8')))\n",
        "df = df.sample(50)"
      ],
      "execution_count": 0,
      "outputs": []
    },
    {
      "cell_type": "code",
      "metadata": {
        "id": "PxiLZVMm87fh",
        "colab_type": "code",
        "colab": {}
      },
      "source": [
        "x1 = len(df['start station id'].unique())\n",
        "y1 = len(df[['start station id', 'start station name']].drop_duplicates())\n",
        "x2 = len(df['end station id'].unique())\n",
        "y2 = len(df[['end station id', 'end station name']].drop_duplicates())\n"
      ],
      "execution_count": 0,
      "outputs": []
    },
    {
      "cell_type": "code",
      "metadata": {
        "id": "VXCoBC10-tFJ",
        "colab_type": "code",
        "colab": {}
      },
      "source": [
        "x1 = len(df['start station id'].unique())\n",
        "y1 = len(df[['start station id', 'start station latitude']].drop_duplicates())\n",
        "x2 = len(df['end station id'].unique())\n",
        "y2 = len(df[['end station id', 'end station latitude']].drop_duplicates())\n"
      ],
      "execution_count": 0,
      "outputs": []
    },
    {
      "cell_type": "code",
      "metadata": {
        "id": "MulsPT0R-z_t",
        "colab_type": "code",
        "colab": {}
      },
      "source": [
        "x1 = len(df['start station id'].unique())\n",
        "y1 = len(df[['start station id', 'start station longitude']].drop_duplicates())\n",
        "x2 = len(df['end station id'].unique())\n",
        "y2 = len(df[['end station id', 'end station longitude']].drop_duplicates())\n"
      ],
      "execution_count": 0,
      "outputs": []
    },
    {
      "cell_type": "code",
      "metadata": {
        "id": "Hv6Vrfgo_CGm",
        "colab_type": "code",
        "colab": {}
      },
      "source": [
        "t1 = df[['start station id', 'start station name', 'start station latitude', 'start station longitude']] \\\n",
        "            .drop_duplicates().rename(columns = {'start station id':'station id', \\\n",
        "                                                 'start station name':'station name', \\\n",
        "                                                 'start station latitude':'station latitude', \n",
        "                                                 'start station longitude': 'station longitude'})\n",
        "t2 = df[['end station id', 'end station name', 'end station latitude', 'end station longitude']] \\\n",
        "        .drop_duplicates().rename(columns = {'end station id':'station id', \\\n",
        "                                             'end station name':'station name', \\\n",
        "                                             'end station latitude':'station latitude', \\\n",
        "                                             'end station longitude': 'station longitude'})\n",
        "df_loc = pd.concat([t1, t2]).drop_duplicates()"
      ],
      "execution_count": 0,
      "outputs": []
    },
    {
      "cell_type": "code",
      "metadata": {
        "id": "gb3nTZQ4AHHm",
        "colab_type": "code",
        "colab": {
          "base_uri": "https://localhost:8080/",
          "height": 319
        },
        "outputId": "94b1f8a1-f511-4ad5-98ea-14cbf9726722"
      },
      "source": [
        "# Create a directed graph\n",
        "NG = nx.DiGraph()\n",
        "\n",
        "#Add each unique station id as a node in the network\n",
        "for i, j, k in zip(df_loc['station id'], df_loc['station longitude'], df_loc['station latitude']):\n",
        "    NG.add_node(i,pos=(j,k)) \n",
        "\n",
        "pos= nx.get_node_attributes(NG, 'pos') \n",
        "print(pos) \n",
        "\n",
        "#Add each start and stop station id pair as an edge in the network\n",
        "for i, j in zip(df['start station id'], df['end station id']):\n",
        "    NG.add_edge(i,j) \n",
        "\n",
        "print('# of edges: {}'.format(NG.number_of_edges())) \n",
        "print('# of nodes: {}'.format(NG.number_of_nodes())) \n",
        "plt.axis('off')\n",
        "nx.draw(NG,pos,node_size=20,with_labels = 'true', node_color='blue',alpha=0.5,width=0.5)"
      ],
      "execution_count": 176,
      "outputs": [
        {
          "output_type": "stream",
          "text": [
            "{3186: (-74.0431174635887, 40.71958611647166), 3213: (-74.047726625, 40.71848892), 3212: (-74.050443636, 40.734785818), 3681: (-74.03768330812454, 40.71517767732029), 3195: (-74.06391263008119, 40.73089709786179), 3481: (-74.04105, 40.71649), 3192: (-74.0557013, 40.711242299999995), 3639: (-74.034234, 40.71925170000001), 3792: (-74.03281, 40.71687), 3193: (-74.07840594649316, 40.7246050998869), 3209: (-74.05065640000001, 40.7241765), 3202: (-74.03375890000001, 40.7272235), 3640: (-74.0625, 40.733670000000004), 3207: (-74.05247829999999, 40.7376037), 3638: (-74.0354826, 40.7242941), 3267: (-74.03852552175522, 40.7124188237569), 3184: (-74.0335519, 40.7141454), 3791: (-74.04696375131606, 40.73520838045357), 3194: (-74.06762212514876, 40.7253399253558), 3272: (-74.04595255851744, 40.723331586464354), 3210: (-74.051788633, 40.742677141), 3275: (-74.03891444206238, 40.71835519823214), 3203: (-74.044247311, 40.727595965999996), 3268: (-74.06285852193831, 40.71346382669195), 3276: (-74.04281705617905, 40.71458403535893), 3269: (-74.0503889322281, 40.726011729646245), 3205: (-74.0496379137039, 40.71653978099194), 3278: (-74.0487903356552, 40.72568548362901), 3677: (-74.07106071710588, 40.72755146730012), 3187: (-74.03805095, 40.721123600000006), 3211: (-74.046304543, 40.72152515), 3273: (-74.04288411140442, 40.72165072487999), 3220: (-74.05950307846071, 40.73496102000952), 3185: (-74.04384499999999, 40.717732500000004), 3279: (-74.04996782541275, 40.72163014263835)}\n",
            "# of edges: 47\n",
            "# of nodes: 35\n"
          ],
          "name": "stdout"
        },
        {
          "output_type": "display_data",
          "data": {
            "image/png": "[encoded data removed]",
            "text/plain": [
              "<Figure size 432x288 with 1 Axes>"
            ]
          },
          "metadata": {
            "tags": []
          }
        }
      ]
    },
    {
      "cell_type": "code",
      "metadata": {
        "id": "o9_LR3z1W2xG",
        "colab_type": "code",
        "colab": {
          "base_uri": "https://localhost:8080/",
          "height": 88
        },
        "outputId": "fa412d58-f21d-44ab-8543-c910bd0c98c4"
      },
      "source": [
        "#degree distribution\n",
        "print(NG.degree(df_loc['station id'])) \n",
        "print(nx.in_degree_centrality(NG))\n",
        "print(nx.out_degree_centrality(NG)) "
      ],
      "execution_count": 177,
      "outputs": [
        {
          "output_type": "stream",
          "text": [
            "[(3186, 15), (3213, 2), (3212, 1), (3681, 4), (3195, 3), (3481, 2), (3192, 4), (3639, 5), (3792, 4), (3193, 3), (3209, 1), (3202, 5), (3640, 2), (3207, 1), (3638, 3), (3267, 1), (3184, 2), (3791, 2), (3194, 1), (3272, 2), (3210, 2), (3275, 2), (3203, 4), (3268, 2), (3276, 5), (3269, 3), (3205, 3), (3278, 2), (3677, 1), (3187, 1), (3211, 1), (3273, 2), (3220, 1), (3185, 1), (3279, 1)]\n",
            "{3186: 0.1764705882352941, 3213: 0.029411764705882353, 3212: 0.0, 3681: 0.058823529411764705, 3195: 0.029411764705882353, 3481: 0.0, 3192: 0.029411764705882353, 3639: 0.08823529411764705, 3792: 0.058823529411764705, 3193: 0.058823529411764705, 3209: 0.0, 3202: 0.08823529411764705, 3640: 0.029411764705882353, 3207: 0.0, 3638: 0.029411764705882353, 3267: 0.0, 3184: 0.0, 3791: 0.029411764705882353, 3194: 0.0, 3272: 0.029411764705882353, 3210: 0.029411764705882353, 3275: 0.029411764705882353, 3203: 0.058823529411764705, 3268: 0.029411764705882353, 3276: 0.08823529411764705, 3269: 0.058823529411764705, 3205: 0.058823529411764705, 3278: 0.058823529411764705, 3677: 0.029411764705882353, 3187: 0.029411764705882353, 3211: 0.029411764705882353, 3273: 0.058823529411764705, 3220: 0.029411764705882353, 3185: 0.029411764705882353, 3279: 0.029411764705882353}\n",
            "{3186: 0.2647058823529412, 3213: 0.029411764705882353, 3212: 0.029411764705882353, 3681: 0.058823529411764705, 3195: 0.058823529411764705, 3481: 0.058823529411764705, 3192: 0.08823529411764705, 3639: 0.058823529411764705, 3792: 0.058823529411764705, 3193: 0.029411764705882353, 3209: 0.029411764705882353, 3202: 0.058823529411764705, 3640: 0.029411764705882353, 3207: 0.029411764705882353, 3638: 0.058823529411764705, 3267: 0.029411764705882353, 3184: 0.058823529411764705, 3791: 0.029411764705882353, 3194: 0.029411764705882353, 3272: 0.029411764705882353, 3210: 0.029411764705882353, 3275: 0.029411764705882353, 3203: 0.058823529411764705, 3268: 0.029411764705882353, 3276: 0.058823529411764705, 3269: 0.029411764705882353, 3205: 0.029411764705882353, 3278: 0.0, 3677: 0.0, 3187: 0.0, 3211: 0.0, 3273: 0.0, 3220: 0.0, 3185: 0.0, 3279: 0.0}\n"
          ],
          "name": "stdout"
        }
      ]
    },
    {
      "cell_type": "code",
      "metadata": {
        "id": "kdxiSUn5Rg2I",
        "colab_type": "code",
        "colab": {
          "base_uri": "https://localhost:8080/",
          "height": 88
        },
        "outputId": "707a231e-e5a3-456c-e34a-d4ced36d460b"
      },
      "source": [
        "#centrality measures\n",
        "print(nx.closeness_centrality(NG))\n",
        "print(nx.betweenness_centrality(NG))\n",
        "print(nx.edge_betweenness_centrality(NG))"
      ],
      "execution_count": 178,
      "outputs": [
        {
          "output_type": "stream",
          "text": [
            "{3186: 0.22590738423028786, 3213: 0.16334841628959276, 3212: 0.0, 3681: 0.17405978784956608, 3195: 0.0392156862745098, 3481: 0.0, 3192: 0.0, 3639: 0.22120098039215685, 3792: 0.1769607843137255, 3193: 0.058823529411764705, 3209: 0.0, 3202: 0.17125237191650855, 3640: 0.029411764705882353, 3207: 0.0, 3638: 0.029411764705882353, 3267: 0.0, 3184: 0.0, 3791: 0.12592804111936037, 3194: 0.0, 3272: 0.16590073529411764, 3210: 0.0392156862745098, 3275: 0.14347202295552366, 3203: 0.1830628803245436, 3268: 0.17559262510974538, 3276: 0.17125237191650855, 3269: 0.1415686274509804, 3205: 0.17559262510974538, 3278: 0.18674136321195145, 3677: 0.17301038062283738, 3187: 0.14347202295552366, 3211: 0.0392156862745098, 3273: 0.1757443718228032, 3220: 0.04411764705882353, 3185: 0.14739304812834225, 3279: 0.17559262510974538}\n",
            "{3186: 0.2571301247771836, 3213: 0.0, 3212: 0.0, 3681: 0.026737967914438502, 3195: 0.035650623885918, 3481: 0.0, 3192: 0.0, 3639: 0.142602495543672, 3792: 0.031194295900178252, 3193: 0.01871657754010695, 3209: 0.0, 3202: 0.05971479500891265, 3640: 0.0017825311942959, 3207: 0.0, 3638: 0.0053475935828877, 3267: 0.0, 3184: 0.0, 3791: 0.001336898395721925, 3194: 0.0, 3272: 0.12477718360071301, 3210: 0.0017825311942959, 3275: 0.018270944741532975, 3203: 0.047682709447415324, 3268: 0.017825311942959, 3276: 0.04188948306595365, 3269: 0.0427807486631016, 3205: 0.0, 3278: 0.0, 3677: 0.0, 3187: 0.0, 3211: 0.0, 3273: 0.0, 3220: 0.0, 3185: 0.0, 3279: 0.0}\n",
            "{(3186, 3268): 0.033613445378151266, (3186, 3278): 0.015126050420168069, (3186, 3792): 0.03865546218487395, (3186, 3203): 0.05, (3186, 3213): 0.01596638655462185, (3186, 3205): 0.016806722689075633, (3186, 3276): 0.04285714285714286, (3186, 3279): 0.016806722689075633, (3186, 3681): 0.028571428571428574, (3213, 3186): 0.01596638655462185, (3212, 3640): 0.0025210084033613447, (3681, 3269): 0.039495798319327736, (3681, 3278): 0.0016806722689075631, (3195, 3193): 0.0008403361344537816, (3195, 3639): 0.05042016806722689, (3481, 3638): 0.0058823529411764705, (3481, 3681): 0.012605042016806723, (3192, 3276): 0.0025210084033613447, (3192, 3192): 0.0, (3192, 3186): 0.014285714285714287, (3639, 3677): 0.016806722689075633, (3639, 3272): 0.13361344537815126, (3792, 3202): 0.034453781512605045, (3792, 3203): 0.01092436974789916, (3193, 3195): 0.03529411764705882, (3209, 3186): 0.016806722689075633, (3202, 3187): 0.016806722689075633, (3202, 3639): 0.055462184873949584, (3640, 3210): 0.0033613445378151263, (3207, 3269): 0.016806722689075633, (3638, 3211): 0.0016806722689075631, (3638, 3202): 0.02100840336134454, (3267, 3202): 0.016806722689075633, (3184, 3792): 0.0067226890756302525, (3184, 3276): 0.010084033613445379, (3791, 3273): 0.002100840336134454, (3194, 3193): 0.018487394957983194, (3272, 3186): 0.13361344537815126, (3210, 3220): 0.0025210084033613447, (3275, 3791): 0.018907563025210086, (3203, 3639): 0.04453781512605042, (3203, 3273): 0.01638655462184874, (3268, 3185): 0.01764705882352941, (3276, 3186): 0.02142857142857143, (3276, 3275): 0.034033613445378155, (3269, 3186): 0.05630252100840336, (3205, 3205): 0.0}\n"
          ],
          "name": "stdout"
        }
      ]
    },
    {
      "cell_type": "code",
      "metadata": {
        "id": "lfVtz8iWbyKt",
        "colab_type": "code",
        "colab": {
          "base_uri": "https://localhost:8080/",
          "height": 85
        },
        "outputId": "5ad6fa3d-72a7-49c2-8fb3-dc2be488543a"
      },
      "source": [
        "#connectivity\n",
        "print(nx.is_strongly_connected(NG))\n",
        "print(nx.number_strongly_connected_components(NG))\n",
        "print(nx.is_weakly_connected(NG))\n",
        "print(nx.number_weakly_connected_components(NG))"
      ],
      "execution_count": 179,
      "outputs": [
        {
          "output_type": "stream",
          "text": [
            "False\n",
            "25\n",
            "False\n",
            "2\n"
          ],
          "name": "stdout"
        }
      ]
    },
    {
      "cell_type": "code",
      "metadata": {
        "id": "RJLGcv07SqXK",
        "colab_type": "code",
        "colab": {
          "base_uri": "https://localhost:8080/",
          "height": 54
        },
        "outputId": "44a73b4c-d489-4769-9423-c453e83ab257"
      },
      "source": [
        "#pagerank\n",
        "print(nx.pagerank(NG))"
      ],
      "execution_count": 180,
      "outputs": [
        {
          "output_type": "stream",
          "text": [
            "{3186: 0.10068367580544604, 3213: 0.019203008271244812, 3212: 0.009693788346248674, 3681: 0.02332292209625155, 3195: 0.03904223471909593, 3481: 0.009693788346248674, 3192: 0.013526292199579232, 3639: 0.05299134865917808, 3792: 0.02332292209625155, 3193: 0.03452691177220239, 3209: 0.009693788346248674, 3202: 0.033716949269175164, 3640: 0.017933615996262153, 3207: 0.009693788346248674, 3638: 0.013813702171255413, 3267: 0.009693788346248674, 3184: 0.009693788346248674, 3791: 0.027743915309587443, 3194: 0.009693788346248674, 3272: 0.032215598121665794, 3210: 0.024937579503083143, 3275: 0.021235058872438796, 3203: 0.029115436842445833, 3268: 0.019203008271244812, 3276: 0.027155425949582108, 3269: 0.027846044567463177, 3205: 0.12792675890170158, 3278: 0.029115436842445833, 3677: 0.032215598121665794, 3187: 0.02402373758785782, 3211: 0.01556469304796066, 3273: 0.0456508735867865, 3220: 0.030891060987902553, 3185: 0.026016663735240225, 3279: 0.019203008271244812}\n"
          ],
          "name": "stdout"
        }
      ]
    },
    {
      "cell_type": "code",
      "metadata": {
        "id": "VIfYdybTVDBh",
        "colab_type": "code",
        "colab": {
          "base_uri": "https://localhost:8080/",
          "height": 54
        },
        "outputId": "833808fd-7d19-482b-956c-c949115936ba"
      },
      "source": [
        "#HITS\n",
        "print(nx.hits(NG))"
      ],
      "execution_count": 181,
      "outputs": [
        {
          "output_type": "stream",
          "text": [
            "({3186: 0.45435325989592434, 3213: 0.018126165611662012, 3212: 9.587405502531062e-45, 3681: 0.05601853953230023, 3195: 8.19821608771562e-18, 3481: 0.05527926538085255, 3192: 0.09263858570176284, 3639: 8.433171064189205e-32, 3792: 0.057084751078965046, 3193: 9.587405502531062e-45, 3209: 0.018126165611662012, 3202: 7.404726541624704e-18, 3640: 9.587405502531062e-45, 3207: 0.006076267816678583, 3638: 0.00780156528136101, 3267: 0.007038145568536358, 3184: 0.12182948107939208, 3791: 2.5505291141637073e-18, 3194: 2.5505291141637073e-18, 3272: 0.018126165611662012, 3210: 9.587405502531062e-45, 3275: 9.587405502531062e-45, 3203: 8.19821608771562e-18, 3268: 9.587405502531062e-45, 3276: 0.02009229041997479, 3269: 0.018126165611662012, 3205: 0.04928318579760403, 3278: 0.0, 3677: 0.0, 3187: 0.0, 3211: 0.0, 3273: 0.0, 3220: 0.0, 3185: 0.0, 3279: 0.0}, {3186: 0.03605060370960151, 3213: 0.08842638490581904, 3212: 0.0, 3681: 0.09918485420140555, 3195: 1.9068112019931435e-44, 3481: 0.0, 3192: 0.01802935297492106, 3639: 1.1232520397386469e-17, 3792: 0.11213687968374143, 3193: 5.072673190482119e-18, 3209: 0.0, 3202: 0.013997963064982029, 3640: 1.9068112019931435e-44, 3207: 0.0, 3638: 0.010758469295586508, 3267: 0.0, 3184: 0.0, 3791: 1.9068112019931435e-44, 3194: 0.0, 3272: 8.386244354259969e-32, 3210: 1.9068112019931435e-44, 3275: 0.003910368459973551, 3203: 0.09953623843679497, 3268: 0.08842638490581904, 3276: 0.1301662326586625, 3269: 0.012084912373941393, 3205: 0.09801789516879393, 3278: 0.09932873198613744, 3677: 8.386244354259969e-32, 3187: 3.494524905473027e-18, 3211: 0.0015183432680010607, 3273: 5.072673190482119e-18, 3220: 1.9068112019931435e-44, 3185: 1.9068112019931435e-44, 3279: 0.08842638490581904})\n"
          ],
          "name": "stdout"
        }
      ]
    },
    {
      "cell_type": "code",
      "metadata": {
        "id": "N4J4m5qhVgCg",
        "colab_type": "code",
        "colab": {
          "base_uri": "https://localhost:8080/",
          "height": 54
        },
        "outputId": "51830e1f-cab1-4c27-95f6-0d07d8b5ff25"
      },
      "source": [
        "#avergae shortest path length\n",
        "print(nx.shortest_path(NG))\n"
      ],
      "execution_count": 183,
      "outputs": [
        {
          "output_type": "stream",
          "text": [
            "{3186: {3186: [3186], 3268: [3186, 3268], 3278: [3186, 3278], 3792: [3186, 3792], 3203: [3186, 3203], 3213: [3186, 3213], 3205: [3186, 3205], 3276: [3186, 3276], 3279: [3186, 3279], 3681: [3186, 3681], 3185: [3186, 3268, 3185], 3202: [3186, 3792, 3202], 3639: [3186, 3203, 3639], 3273: [3186, 3203, 3273], 3275: [3186, 3276, 3275], 3269: [3186, 3681, 3269], 3187: [3186, 3792, 3202, 3187], 3677: [3186, 3203, 3639, 3677], 3272: [3186, 3203, 3639, 3272], 3791: [3186, 3276, 3275, 3791]}, 3213: {3213: [3213], 3186: [3213, 3186], 3268: [3213, 3186, 3268], 3278: [3213, 3186, 3278], 3792: [3213, 3186, 3792], 3203: [3213, 3186, 3203], 3205: [3213, 3186, 3205], 3276: [3213, 3186, 3276], 3279: [3213, 3186, 3279], 3681: [3213, 3186, 3681], 3185: [3213, 3186, 3268, 3185], 3202: [3213, 3186, 3792, 3202], 3639: [3213, 3186, 3203, 3639], 3273: [3213, 3186, 3203, 3273], 3275: [3213, 3186, 3276, 3275], 3269: [3213, 3186, 3681, 3269], 3187: [3213, 3186, 3792, 3202, 3187], 3677: [3213, 3186, 3203, 3639, 3677], 3272: [3213, 3186, 3203, 3639, 3272], 3791: [3213, 3186, 3276, 3275, 3791]}, 3212: {3212: [3212], 3640: [3212, 3640], 3210: [3212, 3640, 3210], 3220: [3212, 3640, 3210, 3220]}, 3681: {3681: [3681], 3269: [3681, 3269], 3278: [3681, 3278], 3186: [3681, 3269, 3186], 3268: [3681, 3269, 3186, 3268], 3792: [3681, 3269, 3186, 3792], 3203: [3681, 3269, 3186, 3203], 3213: [3681, 3269, 3186, 3213], 3205: [3681, 3269, 3186, 3205], 3276: [3681, 3269, 3186, 3276], 3279: [3681, 3269, 3186, 3279], 3185: [3681, 3269, 3186, 3268, 3185], 3202: [3681, 3269, 3186, 3792, 3202], 3639: [3681, 3269, 3186, 3203, 3639], 3273: [3681, 3269, 3186, 3203, 3273], 3275: [3681, 3269, 3186, 3276, 3275], 3187: [3681, 3269, 3186, 3792, 3202, 3187], 3677: [3681, 3269, 3186, 3203, 3639, 3677], 3272: [3681, 3269, 3186, 3203, 3639, 3272], 3791: [3681, 3269, 3186, 3276, 3275, 3791]}, 3195: {3195: [3195], 3193: [3195, 3193], 3639: [3195, 3639], 3677: [3195, 3639, 3677], 3272: [3195, 3639, 3272], 3186: [3195, 3639, 3272, 3186], 3268: [3195, 3639, 3272, 3186, 3268], 3278: [3195, 3639, 3272, 3186, 3278], 3792: [3195, 3639, 3272, 3186, 3792], 3203: [3195, 3639, 3272, 3186, 3203], 3213: [3195, 3639, 3272, 3186, 3213], 3205: [3195, 3639, 3272, 3186, 3205], 3276: [3195, 3639, 3272, 3186, 3276], 3279: [3195, 3639, 3272, 3186, 3279], 3681: [3195, 3639, 3272, 3186, 3681], 3185: [3195, 3639, 3272, 3186, 3268, 3185], 3202: [3195, 3639, 3272, 3186, 3792, 3202], 3273: [3195, 3639, 3272, 3186, 3203, 3273], 3275: [3195, 3639, 3272, 3186, 3276, 3275], 3269: [3195, 3639, 3272, 3186, 3681, 3269], 3187: [3195, 3639, 3272, 3186, 3792, 3202, 3187], 3791: [3195, 3639, 3272, 3186, 3276, 3275, 3791]}, 3481: {3481: [3481], 3638: [3481, 3638], 3681: [3481, 3681], 3211: [3481, 3638, 3211], 3202: [3481, 3638, 3202], 3269: [3481, 3681, 3269], 3278: [3481, 3681, 3278], 3187: [3481, 3638, 3202, 3187], 3639: [3481, 3638, 3202, 3639], 3186: [3481, 3681, 3269, 3186], 3677: [3481, 3638, 3202, 3639, 3677], 3272: [3481, 3638, 3202, 3639, 3272], 3268: [3481, 3681, 3269, 3186, 3268], 3792: [3481, 3681, 3269, 3186, 3792], 3203: [3481, 3681, 3269, 3186, 3203], 3213: [3481, 3681, 3269, 3186, 3213], 3205: [3481, 3681, 3269, 3186, 3205], 3276: [3481, 3681, 3269, 3186, 3276], 3279: [3481, 3681, 3269, 3186, 3279], 3185: [3481, 3681, 3269, 3186, 3268, 3185], 3273: [3481, 3681, 3269, 3186, 3203, 3273], 3275: [3481, 3681, 3269, 3186, 3276, 3275], 3791: [3481, 3681, 3269, 3186, 3276, 3275, 3791]}, 3192: {3192: [3192], 3276: [3192, 3276], 3186: [3192, 3186], 3275: [3192, 3276, 3275], 3268: [3192, 3186, 3268], 3278: [3192, 3186, 3278], 3792: [3192, 3186, 3792], 3203: [3192, 3186, 3203], 3213: [3192, 3186, 3213], 3205: [3192, 3186, 3205], 3279: [3192, 3186, 3279], 3681: [3192, 3186, 3681], 3791: [3192, 3276, 3275, 3791], 3185: [3192, 3186, 3268, 3185], 3202: [3192, 3186, 3792, 3202], 3639: [3192, 3186, 3203, 3639], 3273: [3192, 3186, 3203, 3273], 3269: [3192, 3186, 3681, 3269], 3187: [3192, 3186, 3792, 3202, 3187], 3677: [3192, 3186, 3203, 3639, 3677], 3272: [3192, 3186, 3203, 3639, 3272]}, 3639: {3639: [3639], 3677: [3639, 3677], 3272: [3639, 3272], 3186: [3639, 3272, 3186], 3268: [3639, 3272, 3186, 3268], 3278: [3639, 3272, 3186, 3278], 3792: [3639, 3272, 3186, 3792], 3203: [3639, 3272, 3186, 3203], 3213: [3639, 3272, 3186, 3213], 3205: [3639, 3272, 3186, 3205], 3276: [3639, 3272, 3186, 3276], 3279: [3639, 3272, 3186, 3279], 3681: [3639, 3272, 3186, 3681], 3185: [3639, 3272, 3186, 3268, 3185], 3202: [3639, 3272, 3186, 3792, 3202], 3273: [3639, 3272, 3186, 3203, 3273], 3275: [3639, 3272, 3186, 3276, 3275], 3269: [3639, 3272, 3186, 3681, 3269], 3187: [3639, 3272, 3186, 3792, 3202, 3187], 3791: [3639, 3272, 3186, 3276, 3275, 3791]}, 3792: {3792: [3792], 3202: [3792, 3202], 3203: [3792, 3203], 3187: [3792, 3202, 3187], 3639: [3792, 3202, 3639], 3273: [3792, 3203, 3273], 3677: [3792, 3202, 3639, 3677], 3272: [3792, 3202, 3639, 3272], 3186: [3792, 3202, 3639, 3272, 3186], 3268: [3792, 3202, 3639, 3272, 3186, 3268], 3278: [3792, 3202, 3639, 3272, 3186, 3278], 3213: [3792, 3202, 3639, 3272, 3186, 3213], 3205: [3792, 3202, 3639, 3272, 3186, 3205], 3276: [3792, 3202, 3639, 3272, 3186, 3276], 3279: [3792, 3202, 3639, 3272, 3186, 3279], 3681: [3792, 3202, 3639, 3272, 3186, 3681], 3185: [3792, 3202, 3639, 3272, 3186, 3268, 3185], 3275: [3792, 3202, 3639, 3272, 3186, 3276, 3275], 3269: [3792, 3202, 3639, 3272, 3186, 3681, 3269], 3791: [3792, 3202, 3639, 3272, 3186, 3276, 3275, 3791]}, 3193: {3193: [3193], 3195: [3193, 3195], 3639: [3193, 3195, 3639], 3677: [3193, 3195, 3639, 3677], 3272: [3193, 3195, 3639, 3272], 3186: [3193, 3195, 3639, 3272, 3186], 3268: [3193, 3195, 3639, 3272, 3186, 3268], 3278: [3193, 3195, 3639, 3272, 3186, 3278], 3792: [3193, 3195, 3639, 3272, 3186, 3792], 3203: [3193, 3195, 3639, 3272, 3186, 3203], 3213: [3193, 3195, 3639, 3272, 3186, 3213], 3205: [3193, 3195, 3639, 3272, 3186, 3205], 3276: [3193, 3195, 3639, 3272, 3186, 3276], 3279: [3193, 3195, 3639, 3272, 3186, 3279], 3681: [3193, 3195, 3639, 3272, 3186, 3681], 3185: [3193, 3195, 3639, 3272, 3186, 3268, 3185], 3202: [3193, 3195, 3639, 3272, 3186, 3792, 3202], 3273: [3193, 3195, 3639, 3272, 3186, 3203, 3273], 3275: [3193, 3195, 3639, 3272, 3186, 3276, 3275], 3269: [3193, 3195, 3639, 3272, 3186, 3681, 3269], 3187: [3193, 3195, 3639, 3272, 3186, 3792, 3202, 3187], 3791: [3193, 3195, 3639, 3272, 3186, 3276, 3275, 3791]}, 3209: {3209: [3209], 3186: [3209, 3186], 3268: [3209, 3186, 3268], 3278: [3209, 3186, 3278], 3792: [3209, 3186, 3792], 3203: [3209, 3186, 3203], 3213: [3209, 3186, 3213], 3205: [3209, 3186, 3205], 3276: [3209, 3186, 3276], 3279: [3209, 3186, 3279], 3681: [3209, 3186, 3681], 3185: [3209, 3186, 3268, 3185], 3202: [3209, 3186, 3792, 3202], 3639: [3209, 3186, 3203, 3639], 3273: [3209, 3186, 3203, 3273], 3275: [3209, 3186, 3276, 3275], 3269: [3209, 3186, 3681, 3269], 3187: [3209, 3186, 3792, 3202, 3187], 3677: [3209, 3186, 3203, 3639, 3677], 3272: [3209, 3186, 3203, 3639, 3272], 3791: [3209, 3186, 3276, 3275, 3791]}, 3202: {3202: [3202], 3187: [3202, 3187], 3639: [3202, 3639], 3677: [3202, 3639, 3677], 3272: [3202, 3639, 3272], 3186: [3202, 3639, 3272, 3186], 3268: [3202, 3639, 3272, 3186, 3268], 3278: [3202, 3639, 3272, 3186, 3278], 3792: [3202, 3639, 3272, 3186, 3792], 3203: [3202, 3639, 3272, 3186, 3203], 3213: [3202, 3639, 3272, 3186, 3213], 3205: [3202, 3639, 3272, 3186, 3205], 3276: [3202, 3639, 3272, 3186, 3276], 3279: [3202, 3639, 3272, 3186, 3279], 3681: [3202, 3639, 3272, 3186, 3681], 3185: [3202, 3639, 3272, 3186, 3268, 3185], 3273: [3202, 3639, 3272, 3186, 3203, 3273], 3275: [3202, 3639, 3272, 3186, 3276, 3275], 3269: [3202, 3639, 3272, 3186, 3681, 3269], 3791: [3202, 3639, 3272, 3186, 3276, 3275, 3791]}, 3640: {3640: [3640], 3210: [3640, 3210], 3220: [3640, 3210, 3220]}, 3207: {3207: [3207], 3269: [3207, 3269], 3186: [3207, 3269, 3186], 3268: [3207, 3269, 3186, 3268], 3278: [3207, 3269, 3186, 3278], 3792: [3207, 3269, 3186, 3792], 3203: [3207, 3269, 3186, 3203], 3213: [3207, 3269, 3186, 3213], 3205: [3207, 3269, 3186, 3205], 3276: [3207, 3269, 3186, 3276], 3279: [3207, 3269, 3186, 3279], 3681: [3207, 3269, 3186, 3681], 3185: [3207, 3269, 3186, 3268, 3185], 3202: [3207, 3269, 3186, 3792, 3202], 3639: [3207, 3269, 3186, 3203, 3639], 3273: [3207, 3269, 3186, 3203, 3273], 3275: [3207, 3269, 3186, 3276, 3275], 3187: [3207, 3269, 3186, 3792, 3202, 3187], 3677: [3207, 3269, 3186, 3203, 3639, 3677], 3272: [3207, 3269, 3186, 3203, 3639, 3272], 3791: [3207, 3269, 3186, 3276, 3275, 3791]}, 3638: {3638: [3638], 3211: [3638, 3211], 3202: [3638, 3202], 3187: [3638, 3202, 3187], 3639: [3638, 3202, 3639], 3677: [3638, 3202, 3639, 3677], 3272: [3638, 3202, 3639, 3272], 3186: [3638, 3202, 3639, 3272, 3186], 3268: [3638, 3202, 3639, 3272, 3186, 3268], 3278: [3638, 3202, 3639, 3272, 3186, 3278], 3792: [3638, 3202, 3639, 3272, 3186, 3792], 3203: [3638, 3202, 3639, 3272, 3186, 3203], 3213: [3638, 3202, 3639, 3272, 3186, 3213], 3205: [3638, 3202, 3639, 3272, 3186, 3205], 3276: [3638, 3202, 3639, 3272, 3186, 3276], 3279: [3638, 3202, 3639, 3272, 3186, 3279], 3681: [3638, 3202, 3639, 3272, 3186, 3681], 3185: [3638, 3202, 3639, 3272, 3186, 3268, 3185], 3273: [3638, 3202, 3639, 3272, 3186, 3203, 3273], 3275: [3638, 3202, 3639, 3272, 3186, 3276, 3275], 3269: [3638, 3202, 3639, 3272, 3186, 3681, 3269], 3791: [3638, 3202, 3639, 3272, 3186, 3276, 3275, 3791]}, 3267: {3267: [3267], 3202: [3267, 3202], 3187: [3267, 3202, 3187], 3639: [3267, 3202, 3639], 3677: [3267, 3202, 3639, 3677], 3272: [3267, 3202, 3639, 3272], 3186: [3267, 3202, 3639, 3272, 3186], 3268: [3267, 3202, 3639, 3272, 3186, 3268], 3278: [3267, 3202, 3639, 3272, 3186, 3278], 3792: [3267, 3202, 3639, 3272, 3186, 3792], 3203: [3267, 3202, 3639, 3272, 3186, 3203], 3213: [3267, 3202, 3639, 3272, 3186, 3213], 3205: [3267, 3202, 3639, 3272, 3186, 3205], 3276: [3267, 3202, 3639, 3272, 3186, 3276], 3279: [3267, 3202, 3639, 3272, 3186, 3279], 3681: [3267, 3202, 3639, 3272, 3186, 3681], 3185: [3267, 3202, 3639, 3272, 3186, 3268, 3185], 3273: [3267, 3202, 3639, 3272, 3186, 3203, 3273], 3275: [3267, 3202, 3639, 3272, 3186, 3276, 3275], 3269: [3267, 3202, 3639, 3272, 3186, 3681, 3269], 3791: [3267, 3202, 3639, 3272, 3186, 3276, 3275, 3791]}, 3184: {3184: [3184], 3792: [3184, 3792], 3276: [3184, 3276], 3202: [3184, 3792, 3202], 3203: [3184, 3792, 3203], 3186: [3184, 3276, 3186], 3275: [3184, 3276, 3275], 3187: [3184, 3792, 3202, 3187], 3639: [3184, 3792, 3202, 3639], 3273: [3184, 3792, 3203, 3273], 3268: [3184, 3276, 3186, 3268], 3278: [3184, 3276, 3186, 3278], 3213: [3184, 3276, 3186, 3213], 3205: [3184, 3276, 3186, 3205], 3279: [3184, 3276, 3186, 3279], 3681: [3184, 3276, 3186, 3681], 3791: [3184, 3276, 3275, 3791], 3677: [3184, 3792, 3202, 3639, 3677], 3272: [3184, 3792, 3202, 3639, 3272], 3185: [3184, 3276, 3186, 3268, 3185], 3269: [3184, 3276, 3186, 3681, 3269]}, 3791: {3791: [3791], 3273: [3791, 3273]}, 3194: {3194: [3194], 3193: [3194, 3193], 3195: [3194, 3193, 3195], 3639: [3194, 3193, 3195, 3639], 3677: [3194, 3193, 3195, 3639, 3677], 3272: [3194, 3193, 3195, 3639, 3272], 3186: [3194, 3193, 3195, 3639, 3272, 3186], 3268: [3194, 3193, 3195, 3639, 3272, 3186, 3268], 3278: [3194, 3193, 3195, 3639, 3272, 3186, 3278], 3792: [3194, 3193, 3195, 3639, 3272, 3186, 3792], 3203: [3194, 3193, 3195, 3639, 3272, 3186, 3203], 3213: [3194, 3193, 3195, 3639, 3272, 3186, 3213], 3205: [3194, 3193, 3195, 3639, 3272, 3186, 3205], 3276: [3194, 3193, 3195, 3639, 3272, 3186, 3276], 3279: [3194, 3193, 3195, 3639, 3272, 3186, 3279], 3681: [3194, 3193, 3195, 3639, 3272, 3186, 3681], 3185: [3194, 3193, 3195, 3639, 3272, 3186, 3268, 3185], 3202: [3194, 3193, 3195, 3639, 3272, 3186, 3792, 3202], 3273: [3194, 3193, 3195, 3639, 3272, 3186, 3203, 3273], 3275: [3194, 3193, 3195, 3639, 3272, 3186, 3276, 3275], 3269: [3194, 3193, 3195, 3639, 3272, 3186, 3681, 3269], 3187: [3194, 3193, 3195, 3639, 3272, 3186, 3792, 3202, 3187], 3791: [3194, 3193, 3195, 3639, 3272, 3186, 3276, 3275, 3791]}, 3272: {3272: [3272], 3186: [3272, 3186], 3268: [3272, 3186, 3268], 3278: [3272, 3186, 3278], 3792: [3272, 3186, 3792], 3203: [3272, 3186, 3203], 3213: [3272, 3186, 3213], 3205: [3272, 3186, 3205], 3276: [3272, 3186, 3276], 3279: [3272, 3186, 3279], 3681: [3272, 3186, 3681], 3185: [3272, 3186, 3268, 3185], 3202: [3272, 3186, 3792, 3202], 3639: [3272, 3186, 3203, 3639], 3273: [3272, 3186, 3203, 3273], 3275: [3272, 3186, 3276, 3275], 3269: [3272, 3186, 3681, 3269], 3187: [3272, 3186, 3792, 3202, 3187], 3677: [3272, 3186, 3203, 3639, 3677], 3791: [3272, 3186, 3276, 3275, 3791]}, 3210: {3210: [3210], 3220: [3210, 3220]}, 3275: {3275: [3275], 3791: [3275, 3791], 3273: [3275, 3791, 3273]}, 3203: {3203: [3203], 3639: [3203, 3639], 3273: [3203, 3273], 3677: [3203, 3639, 3677], 3272: [3203, 3639, 3272], 3186: [3203, 3639, 3272, 3186], 3268: [3203, 3639, 3272, 3186, 3268], 3278: [3203, 3639, 3272, 3186, 3278], 3792: [3203, 3639, 3272, 3186, 3792], 3213: [3203, 3639, 3272, 3186, 3213], 3205: [3203, 3639, 3272, 3186, 3205], 3276: [3203, 3639, 3272, 3186, 3276], 3279: [3203, 3639, 3272, 3186, 3279], 3681: [3203, 3639, 3272, 3186, 3681], 3185: [3203, 3639, 3272, 3186, 3268, 3185], 3202: [3203, 3639, 3272, 3186, 3792, 3202], 3275: [3203, 3639, 3272, 3186, 3276, 3275], 3269: [3203, 3639, 3272, 3186, 3681, 3269], 3187: [3203, 3639, 3272, 3186, 3792, 3202, 3187], 3791: [3203, 3639, 3272, 3186, 3276, 3275, 3791]}, 3268: {3268: [3268], 3185: [3268, 3185]}, 3276: {3276: [3276], 3186: [3276, 3186], 3275: [3276, 3275], 3268: [3276, 3186, 3268], 3278: [3276, 3186, 3278], 3792: [3276, 3186, 3792], 3203: [3276, 3186, 3203], 3213: [3276, 3186, 3213], 3205: [3276, 3186, 3205], 3279: [3276, 3186, 3279], 3681: [3276, 3186, 3681], 3791: [3276, 3275, 3791], 3185: [3276, 3186, 3268, 3185], 3202: [3276, 3186, 3792, 3202], 3639: [3276, 3186, 3203, 3639], 3273: [3276, 3186, 3203, 3273], 3269: [3276, 3186, 3681, 3269], 3187: [3276, 3186, 3792, 3202, 3187], 3677: [3276, 3186, 3203, 3639, 3677], 3272: [3276, 3186, 3203, 3639, 3272]}, 3269: {3269: [3269], 3186: [3269, 3186], 3268: [3269, 3186, 3268], 3278: [3269, 3186, 3278], 3792: [3269, 3186, 3792], 3203: [3269, 3186, 3203], 3213: [3269, 3186, 3213], 3205: [3269, 3186, 3205], 3276: [3269, 3186, 3276], 3279: [3269, 3186, 3279], 3681: [3269, 3186, 3681], 3185: [3269, 3186, 3268, 3185], 3202: [3269, 3186, 3792, 3202], 3639: [3269, 3186, 3203, 3639], 3273: [3269, 3186, 3203, 3273], 3275: [3269, 3186, 3276, 3275], 3187: [3269, 3186, 3792, 3202, 3187], 3677: [3269, 3186, 3203, 3639, 3677], 3272: [3269, 3186, 3203, 3639, 3272], 3791: [3269, 3186, 3276, 3275, 3791]}, 3205: {3205: [3205]}, 3278: {3278: [3278]}, 3677: {3677: [3677]}, 3187: {3187: [3187]}, 3211: {3211: [3211]}, 3273: {3273: [3273]}, 3220: {3220: [3220]}, 3185: {3185: [3185]}, 3279: {3279: [3279]}}\n"
          ],
          "name": "stdout"
        }
      ]
    },
    {
      "cell_type": "code",
      "metadata": {
        "id": "3tA5QrKOVm3k",
        "colab_type": "code",
        "colab": {
          "base_uri": "https://localhost:8080/",
          "height": 34
        },
        "outputId": "1f83ac66-b6de-4c33-c155-4da73a69eec5"
      },
      "source": [
        "#average clustering coefficient\n",
        "print(nx.average_clustering(NG))"
      ],
      "execution_count": 184,
      "outputs": [
        {
          "output_type": "stream",
          "text": [
            "0.06101094159346587\n"
          ],
          "name": "stdout"
        }
      ]
    }
  ]
}